{
 "cells": [
  {
   "cell_type": "code",
   "execution_count": 2,
   "id": "7dd4fefb",
   "metadata": {},
   "outputs": [
    {
     "data": {
      "text/plain": [
       "import org.apache.spark.sql.SparkSession\r\n"
      ]
     },
     "execution_count": 2,
     "metadata": {},
     "output_type": "execute_result"
    }
   ],
   "source": [
    "import org.apache.spark.sql.SparkSession"
   ]
  },
  {
   "cell_type": "code",
   "execution_count": 8,
   "id": "476472af",
   "metadata": {},
   "outputs": [
    {
     "data": {
      "text/plain": [
       "spark: org.apache.spark.sql.SparkSession = org.apache.spark.sql.SparkSession@712b0923\r\n",
       "sc: org.apache.spark.SparkContext = org.apache.spark.SparkContext@3793a50d\r\n"
      ]
     },
     "execution_count": 8,
     "metadata": {},
     "output_type": "execute_result"
    }
   ],
   "source": [
    "val spark = SparkSession.builder().appName(\"Spark\").getOrCreate()\n",
    "val sc = spark.sparkContext"
   ]
  },
  {
   "cell_type": "code",
   "execution_count": 9,
   "id": "ec4ddc77",
   "metadata": {},
   "outputs": [
    {
     "name": "stdout",
     "output_type": "stream",
     "text": [
      "+----+--------+-----------+---------+-----------+\n",
      "|name|database|description|tableType|isTemporary|\n",
      "+----+--------+-----------+---------+-----------+\n",
      "+----+--------+-----------+---------+-----------+\n",
      "\n"
     ]
    }
   ],
   "source": [
    "spark.catalog.listTables.show //Show List table name"
   ]
  },
  {
   "cell_type": "code",
   "execution_count": 10,
   "id": "dc4bf391",
   "metadata": {},
   "outputs": [
    {
     "data": {
      "text/plain": [
       "movies: org.apache.spark.sql.DataFrame = [actor_name: string, movie_title: string ... 1 more field]\r\n"
      ]
     },
     "execution_count": 10,
     "metadata": {},
     "output_type": "execute_result"
    }
   ],
   "source": [
    "val movies = spark.read.parquet(\"C:\\\\DataScience\\\\Data_Sample\\\\Spark\\\\chapter3\\\\data\\\\movies\\\\movies.parquet\")"
   ]
  },
  {
   "cell_type": "code",
   "execution_count": 11,
   "id": "3e3782ee",
   "metadata": {},
   "outputs": [],
   "source": [
    "movies.createOrReplaceTempView(\"movies\")"
   ]
  },
  {
   "cell_type": "code",
   "execution_count": 12,
   "id": "964c4252",
   "metadata": {},
   "outputs": [
    {
     "name": "stdout",
     "output_type": "stream",
     "text": [
      "+------+--------+-----------+---------+-----------+\n",
      "|  name|database|description|tableType|isTemporary|\n",
      "+------+--------+-----------+---------+-----------+\n",
      "|movies|    null|       null|TEMPORARY|       true|\n",
      "+------+--------+-----------+---------+-----------+\n",
      "\n"
     ]
    }
   ],
   "source": [
    "spark.catalog.listTables.show"
   ]
  },
  {
   "cell_type": "code",
   "execution_count": 13,
   "id": "777e1255",
   "metadata": {},
   "outputs": [
    {
     "name": "stdout",
     "output_type": "stream",
     "text": [
      "+-------------+-----------+--------+--------+-----------+--------+\n",
      "|         name|description|dataType|nullable|isPartition|isBucket|\n",
      "+-------------+-----------+--------+--------+-----------+--------+\n",
      "|   actor_name|       null|  string|    true|      false|   false|\n",
      "|  movie_title|       null|  string|    true|      false|   false|\n",
      "|produced_year|       null|  bigint|    true|      false|   false|\n",
      "+-------------+-----------+--------+--------+-----------+--------+\n",
      "\n"
     ]
    }
   ],
   "source": [
    "spark.catalog.listColumns(\"movies\").show //show list columns in table"
   ]
  },
  {
   "cell_type": "code",
   "execution_count": 14,
   "id": "b7088326",
   "metadata": {},
   "outputs": [],
   "source": [
    "movies.createOrReplaceGlobalTempView(\"movies_g\")"
   ]
  },
  {
   "cell_type": "code",
   "execution_count": 16,
   "id": "3b013dc4",
   "metadata": {},
   "outputs": [
    {
     "name": "stdout",
     "output_type": "stream",
     "text": [
      "+-----------------+--------------------+-------------+\n",
      "|       actor_name|         movie_title|produced_year|\n",
      "+-----------------+--------------------+-------------+\n",
      "|McClure, Marc (I)|        Coach Carter|         2005|\n",
      "|McClure, Marc (I)|         Superman II|         1980|\n",
      "|McClure, Marc (I)|           Apollo 13|         1995|\n",
      "|McClure, Marc (I)|            Superman|         1978|\n",
      "|McClure, Marc (I)|  Back to the Future|         1985|\n",
      "|McClure, Marc (I)|Back to the Futur...|         1990|\n",
      "|Cooper, Chris (I)|  Me, Myself & Irene|         2000|\n",
      "|Cooper, Chris (I)|         October Sky|         1999|\n",
      "|Cooper, Chris (I)|              Capote|         2005|\n",
      "|Cooper, Chris (I)|The Bourne Supremacy|         2004|\n",
      "|Cooper, Chris (I)|         The Patriot|         2000|\n",
      "|Cooper, Chris (I)|            The Town|         2010|\n",
      "|Cooper, Chris (I)|          Seabiscuit|         2003|\n",
      "|Cooper, Chris (I)|      A Time to Kill|         1996|\n",
      "|Cooper, Chris (I)|Where the Wild Th...|         2009|\n",
      "|Cooper, Chris (I)|         The Muppets|         2011|\n",
      "|Cooper, Chris (I)|     American Beauty|         1999|\n",
      "|Cooper, Chris (I)|             Syriana|         2005|\n",
      "|Cooper, Chris (I)| The Horse Whisperer|         1998|\n",
      "|Cooper, Chris (I)|             Jarhead|         2005|\n",
      "+-----------------+--------------------+-------------+\n",
      "only showing top 20 rows\n",
      "\n"
     ]
    }
   ],
   "source": [
    "spark.newSession().sql(\"SELECT * FROM global_temp.movies_g\").show()"
   ]
  },
  {
   "cell_type": "code",
   "execution_count": 26,
   "id": "a11ebaab",
   "metadata": {},
   "outputs": [
    {
     "name": "stdout",
     "output_type": "stream",
     "text": [
      "+---------------+---------------+-------------+\n",
      "|     actor_name|    movie_title|produced_year|\n",
      "+---------------+---------------+-------------+\n",
      "|Jolie, Angelina|           Salt|         2010|\n",
      "|Jolie, Angelina|Kung Fu Panda 2|         2011|\n",
      "|Jolie, Angelina|    The Tourist|         2010|\n",
      "+---------------+---------------+-------------+\n",
      "\n"
     ]
    }
   ],
   "source": [
    "spark.sql(\"\"\"\n",
    "select * from global_temp.movies_g where actor_name like '%Jolie%' and produced_year > 2009\n",
    "\"\"\").show() "
   ]
  },
  {
   "cell_type": "code",
   "execution_count": 29,
   "id": "fbaa2b98",
   "metadata": {},
   "outputs": [
    {
     "name": "stdout",
     "output_type": "stream",
     "text": [
      "+------------------+-----+\n",
      "|        actor_name|count|\n",
      "+------------------+-----+\n",
      "|  Tatasciore, Fred|   38|\n",
      "|     Welker, Frank|   38|\n",
      "|Jackson, Samuel L.|   32|\n",
      "|     Harnell, Jess|   31|\n",
      "+------------------+-----+\n",
      "\n"
     ]
    }
   ],
   "source": [
    "spark.sql(\"\"\"\n",
    "select actor_name, count(*) as count from global_temp.movies_g \n",
    "group by actor_name\n",
    "\"\"\").where('count >30).orderBy('count.desc).show()"
   ]
  },
  {
   "cell_type": "code",
   "execution_count": 30,
   "id": "b538ae0c",
   "metadata": {},
   "outputs": [
    {
     "name": "stdout",
     "output_type": "stream",
     "text": [
      "+-------------+-----+\n",
      "|produced_year|count|\n",
      "+-------------+-----+\n",
      "|         2011|   86|\n",
      "|         2004|   86|\n",
      "|         2006|   86|\n",
      "|         2005|   85|\n",
      "|         2008|   82|\n",
      "|         2002|   81|\n",
      "|         2010|   78|\n",
      "|         2000|   77|\n",
      "|         2003|   76|\n",
      "|         2007|   75|\n",
      "|         2001|   71|\n",
      "|         2009|   68|\n",
      "|         1999|   67|\n",
      "|         1997|   66|\n",
      "|         1998|   59|\n",
      "|         1996|   42|\n",
      "|         2012|   32|\n",
      "|         1995|   25|\n",
      "|         1986|   16|\n",
      "|         1994|   16|\n",
      "+-------------+-----+\n",
      "only showing top 20 rows\n",
      "\n"
     ]
    }
   ],
   "source": [
    "spark.sql(\"\"\"\n",
    "select produced_year, count(*) as count\n",
    "from(select distinct movie_title, produced_year from global_temp.movies_g)\n",
    "group by produced_year\n",
    "\"\"\").orderBy('count.desc).show()"
   ]
  },
  {
   "cell_type": "code",
   "execution_count": 32,
   "id": "b9a73aa7",
   "metadata": {},
   "outputs": [
    {
     "ename": "org.apache.spark.sql.catalyst.parser.ParseException",
     "evalue": "\r",
     "output_type": "error",
     "traceback": [
      "org.apache.spark.sql.catalyst.parser.ParseException:\r",
      "Syntax error at or near ''C:\\\\DataScience\\\\Data_Sample\\\\Spark\\\\chapter3\\\\data\\\\movies\\\\movies.parquet''(line 2, pos 23)\r",
      "\r",
      "== SQL ==\r",
      "\r",
      "select * from parquet. 'C:\\\\DataScience\\\\Data_Sample\\\\Spark\\\\chapter3\\\\data\\\\movies\\\\movies.parquet'\r",
      "-----------------------^^^\r",
      "\r",
      "  at org.apache.spark.sql.catalyst.parser.ParseException.withCommand(ParseDriver.scala:306)\r",
      "  at org.apache.spark.sql.catalyst.parser.AbstractSqlParser.parse(ParseDriver.scala:143)\r",
      "  at org.apache.spark.sql.execution.SparkSqlParser.parse(SparkSqlParser.scala:52)\r",
      "  at org.apache.spark.sql.catalyst.parser.AbstractSqlParser.parsePlan(ParseDriver.scala:89)\r",
      "  at org.apache.spark.sql.SparkSession.$anonfun$sql$2(SparkSession.scala:620)\r",
      "  at org.apache.spark.sql.catalyst.QueryPlanningTracker.measurePhase(QueryPlanningTracker.scala:111)\r",
      "  at org.apache.spark.sql.SparkSession.$anonfun$sql$1(SparkSession.scala:620)\r",
      "  at org.apache.spark.sql.SparkSession.withActive(SparkSession.scala:779)\r",
      "  at org.apache.spark.sql.SparkSession.sql(SparkSession.scala:617)\r",
      "  ... 37 elided\r",
      ""
     ]
    }
   ],
   "source": [
    "spark.sql(\"\"\"\n",
    "select * from parquet. 'C:\\\\DataScience\\\\Data_Sample\\\\Spark\\\\chapter3\\\\data\\\\movies\\\\movies.parquet'\n",
    "\"\"\").show(3)"
   ]
  },
  {
   "cell_type": "code",
   "execution_count": null,
   "id": "cebd38bd",
   "metadata": {},
   "outputs": [],
   "source": []
  }
 ],
 "metadata": {
  "kernelspec": {
   "display_name": "spylon-kernel",
   "language": "scala",
   "name": "spylon-kernel"
  },
  "language_info": {
   "codemirror_mode": "text/x-scala",
   "file_extension": ".scala",
   "help_links": [
    {
     "text": "MetaKernel Magics",
     "url": "https://metakernel.readthedocs.io/en/latest/source/README.html"
    }
   ],
   "mimetype": "text/x-scala",
   "name": "scala",
   "pygments_lexer": "scala",
   "version": "0.4.1"
  }
 },
 "nbformat": 4,
 "nbformat_minor": 5
}
