{
 "cells": [
  {
   "cell_type": "code",
   "execution_count": 1,
   "id": "f45afd49",
   "metadata": {},
   "outputs": [
    {
     "data": {
      "text/plain": [
       "import org.apache.spark.sql.SparkSession\r\n",
       "import org.apache.spark.sql.functions._\r\n"
      ]
     },
     "execution_count": 1,
     "metadata": {},
     "output_type": "execute_result"
    }
   ],
   "source": [
    "import org.apache.spark.sql.SparkSession\n",
    "import org.apache.spark.sql.functions._"
   ]
  },
  {
   "cell_type": "code",
   "execution_count": 19,
   "id": "ef495ca6",
   "metadata": {},
   "outputs": [
    {
     "data": {
      "text/plain": [
       "address: Seq[(Int, String, String)] = List((1,14851 Washington RD,DE), (2,21821 Margarita ST,NY), (3,31311 Siemon Ave,CA))\r\n"
      ]
     },
     "execution_count": 19,
     "metadata": {},
     "output_type": "execute_result"
    }
   ],
   "source": [
    "val address = Seq(\n",
    "    (1,\"14851 Washington RD\",\"DE\"),\n",
    "    (2,\"21821 Margarita ST\",\"NY\"),\n",
    "    (3,\"31311 Siemon Ave\",\"CA\")\n",
    ")"
   ]
  },
  {
   "cell_type": "code",
   "execution_count": 20,
   "id": "a1de8686",
   "metadata": {},
   "outputs": [
    {
     "name": "stdout",
     "output_type": "stream",
     "text": [
      "+---+-------------------+-----+\n",
      "| ID|            Address|State|\n",
      "+---+-------------------+-----+\n",
      "|  1|14851 Washington RD|   DE|\n",
      "|  2| 21821 Margarita ST|   NY|\n",
      "|  3|   31311 Siemon Ave|   CA|\n",
      "+---+-------------------+-----+\n",
      "\n"
     ]
    },
    {
     "data": {
      "text/plain": [
       "df_address: org.apache.spark.sql.DataFrame = [ID: int, Address: string ... 1 more field]\r\n"
      ]
     },
     "execution_count": 20,
     "metadata": {},
     "output_type": "execute_result"
    }
   ],
   "source": [
    "val df_address = address.toDF(\"ID\",\"Address\",\"State\")\n",
    "df_address.show()"
   ]
  },
  {
   "cell_type": "markdown",
   "id": "33bd0bb8",
   "metadata": {},
   "source": [
    "# String Formatting"
   ]
  },
  {
   "cell_type": "code",
   "execution_count": 21,
   "id": "32f835e7",
   "metadata": {},
   "outputs": [
    {
     "name": "stdout",
     "output_type": "stream",
     "text": [
      "+---+--------------------+-----+\n",
      "| ID|             Address|State|\n",
      "+---+--------------------+-----+\n",
      "|  1|14851 Washington ...|   DE|\n",
      "|  2|  21821 Margarita ST|   NY|\n",
      "|  3|    31311 Siemon Ave|   CA|\n",
      "+---+--------------------+-----+\n",
      "\n"
     ]
    }
   ],
   "source": [
    "df_address.withColumn(\"Address\",regexp_replace($\"Address\",\"RD\",\"Road\")).show()"
   ]
  },
  {
   "cell_type": "code",
   "execution_count": 22,
   "id": "a8e08ac3",
   "metadata": {},
   "outputs": [
    {
     "name": "stdout",
     "output_type": "stream",
     "text": [
      "+---+--------------------+-----+\n",
      "| ID|             Address|State|\n",
      "+---+--------------------+-----+\n",
      "|  1|14851 Washington ...|   DE|\n",
      "|  2|21821 Margarita Road|   NY|\n",
      "|  3|   31311 Siemon Road|   CA|\n",
      "+---+--------------------+-----+\n",
      "\n"
     ]
    }
   ],
   "source": [
    "df_address.withColumn(\"Address\",regexp_replace($\"Address\",\"RD|ST|Ave\",\"Road\")).show()"
   ]
  },
  {
   "cell_type": "code",
   "execution_count": 23,
   "id": "abdd3060",
   "metadata": {},
   "outputs": [
    {
     "ename": "<console>",
     "evalue": "2: error: invalid escape character\r",
     "output_type": "error",
     "traceback": [
      "<console>:2: error: invalid escape character\r",
      "       df_address.withColumn(\"Address\",regexp_replace($\"Address\",\"\\d+\",\"Road\")).show()\r",
      "                                                                   ^\r",
      ""
     ]
    }
   ],
   "source": [
    "df_address.withColumn(\"Address\",regexp_replace($\"Address\",\"\",\"Road\")).show()"
   ]
  },
  {
   "cell_type": "markdown",
   "id": "d0d91c77",
   "metadata": {},
   "source": [
    "# Change Value by Condition"
   ]
  },
  {
   "cell_type": "code",
   "execution_count": 26,
   "id": "625de6b1",
   "metadata": {},
   "outputs": [
    {
     "name": "stdout",
     "output_type": "stream",
     "text": [
      "+---+--------------------+-----+\n",
      "| ID|             Address|State|\n",
      "+---+--------------------+-----+\n",
      "|  1|14851 Washington ...|   DE|\n",
      "|  2|21821 Margarita S...|   NY|\n",
      "|  3| 31311 Siemon Avenue|   CA|\n",
      "+---+--------------------+-----+\n",
      "\n"
     ]
    }
   ],
   "source": [
    "df_address.withColumn(\"Address\", when($\"Address\".endsWith(\"RD\"),regexp_replace($\"Address\",\"RD\",\"Road\"))\n",
    "                     .when($\"Address\".endsWith(\"ST\"),regexp_replace($\"Address\",\"ST\",\"Street\"))\n",
    "                     .when($\"Address\".endsWith(\"Ave\"),regexp_replace($\"Address\",\"Ave\",\"Avenue\"))\n",
    "                     .otherwise(\"Unknown\")\n",
    "                     ).show()"
   ]
  },
  {
   "cell_type": "code",
   "execution_count": 31,
   "id": "52fd6ffa",
   "metadata": {},
   "outputs": [
    {
     "data": {
      "text/plain": [
       "data: List[(String, String, String, String, String, Int)] = List((Reyner,\"\",Wongso,0312,M,12000), (Robert,\"\",Williams,0412,\"\",13000), (Sekar,Alisha,Firdaus,0505,F,14000), (Richard,Mary,B,0404,X,10000))\r\n",
       "cols: Seq[String] = List(firstName, middleName, lastName, DOB, gender, salary)\r\n"
      ]
     },
     "execution_count": 31,
     "metadata": {},
     "output_type": "execute_result"
    }
   ],
   "source": [
    "val data = List((\"Reyner\",\"\",\"Wongso\",\"0312\",\"M\",12000),\n",
    "               (\"Robert\",\"\",\"Williams\",\"0412\",\"\",13000),\n",
    "               (\"Sekar\",\"Alisha\",\"Firdaus\",\"0505\",\"F\",14000),\n",
    "               (\"Richard\",\"Mary\",\"B\",\"0404\",\"X\",10000))\n",
    "\n",
    "val cols = Seq(\"firstName\",\"middleName\",\"lastName\",\"DOB\",\"gender\",\"salary\")"
   ]
  },
  {
   "cell_type": "code",
   "execution_count": 32,
   "id": "268e1a54",
   "metadata": {},
   "outputs": [
    {
     "name": "stdout",
     "output_type": "stream",
     "text": [
      "+---------+----------+--------+----+------+------+\n",
      "|firstName|middleName|lastName| DOB|gender|salary|\n",
      "+---------+----------+--------+----+------+------+\n",
      "|   Reyner|          |  Wongso|0312|     M| 12000|\n",
      "|   Robert|          |Williams|0412|      | 13000|\n",
      "|    Sekar|    Alisha| Firdaus|0505|     F| 14000|\n",
      "|  Richard|      Mary|       B|0404|     X| 10000|\n",
      "+---------+----------+--------+----+------+------+\n",
      "\n"
     ]
    },
    {
     "data": {
      "text/plain": [
       "df: org.apache.spark.sql.DataFrame = [firstName: string, middleName: string ... 4 more fields]\r\n"
      ]
     },
     "execution_count": 32,
     "metadata": {},
     "output_type": "execute_result"
    }
   ],
   "source": [
    "val df = spark.createDataFrame(data).toDF(cols:_*)\n",
    "df.show()"
   ]
  },
  {
   "cell_type": "code",
   "execution_count": 33,
   "id": "acb1968b",
   "metadata": {},
   "outputs": [
    {
     "name": "stdout",
     "output_type": "stream",
     "text": [
      "+---------+----------+--------+----+------+------+---------+\n",
      "|firstName|middleName|lastName| DOB|gender|salary|newGender|\n",
      "+---------+----------+--------+----+------+------+---------+\n",
      "|   Reyner|          |  Wongso|0312|     M| 12000|     Male|\n",
      "|   Robert|          |Williams|0412|      | 13000|  Unknown|\n",
      "|    Sekar|    Alisha| Firdaus|0505|     F| 14000|  Unknown|\n",
      "|  Richard|      Mary|       B|0404|     X| 10000|  Unknown|\n",
      "+---------+----------+--------+----+------+------+---------+\n",
      "\n"
     ]
    },
    {
     "data": {
      "text/plain": [
       "df1: org.apache.spark.sql.DataFrame = [firstName: string, middleName: string ... 5 more fields]\r\n"
      ]
     },
     "execution_count": 33,
     "metadata": {},
     "output_type": "execute_result"
    }
   ],
   "source": [
    "val df1 = df.withColumn(\"newGender\",when(col(\"gender\") === \"M\",\"Male\")\n",
    "                        .otherwise(\"Unknown\"))\n",
    "\n",
    "df1.show()"
   ]
  },
  {
   "cell_type": "code",
   "execution_count": 34,
   "id": "7663cc72",
   "metadata": {},
   "outputs": [
    {
     "name": "stdout",
     "output_type": "stream",
     "text": [
      "+---------+----------+--------+----+------+------+---------+\n",
      "|firstName|middleName|lastName| DOB|gender|salary|newGender|\n",
      "+---------+----------+--------+----+------+------+---------+\n",
      "|   Reyner|          |  Wongso|0312|     M| 12000|     Male|\n",
      "|   Robert|          |Williams|0412|      | 13000|  Unknown|\n",
      "|    Sekar|    Alisha| Firdaus|0505|     F| 14000|   Female|\n",
      "|  Richard|      Mary|       B|0404|     X| 10000|  Unknown|\n",
      "+---------+----------+--------+----+------+------+---------+\n",
      "\n"
     ]
    },
    {
     "data": {
      "text/plain": [
       "df2: org.apache.spark.sql.DataFrame = [firstName: string, middleName: string ... 5 more fields]\r\n"
      ]
     },
     "execution_count": 34,
     "metadata": {},
     "output_type": "execute_result"
    }
   ],
   "source": [
    "val df2 = df.withColumn(\"newGender\",when(col(\"gender\") === \"M\",\"Male\")\n",
    "                        .when(col(\"gender\") === \"F\",\"Female\")\n",
    "                        .otherwise(\"Unknown\"))\n",
    "\n",
    "df2.show()"
   ]
  },
  {
   "cell_type": "markdown",
   "id": "395987b7",
   "metadata": {},
   "source": [
    "# Trim"
   ]
  },
  {
   "cell_type": "code",
   "execution_count": 36,
   "id": "edb51408",
   "metadata": {},
   "outputs": [
    {
     "name": "stdout",
     "output_type": "stream",
     "text": [
      "+----+-------+\n",
      "|col1|   col2|\n",
      "+----+-------+\n",
      "|   1|  ABC  |\n",
      "|   2|  ABC  |\n",
      "|   3|    ABC|\n",
      "+----+-------+\n",
      "\n"
     ]
    },
    {
     "data": {
      "text/plain": [
       "data: Seq[(Int, String)] = List((1,\"ABC  \"), (2,\"  ABC  \"), (3,\"   ABC\"))\r\n",
       "df: org.apache.spark.sql.DataFrame = [col1: int, col2: string]\r\n"
      ]
     },
     "execution_count": 36,
     "metadata": {},
     "output_type": "execute_result"
    }
   ],
   "source": [
    "val data = Seq((1,\"ABC  \"),\n",
    "               (2,\"  ABC  \"),\n",
    "              (3,\"   ABC\"))\n",
    "val df = data.toDF(\"col1\",\"col2\")\n",
    "df.show()"
   ]
  },
  {
   "cell_type": "code",
   "execution_count": 37,
   "id": "9045ac70",
   "metadata": {},
   "outputs": [
    {
     "name": "stdout",
     "output_type": "stream",
     "text": [
      "+----+----+\n",
      "|col1|col2|\n",
      "+----+----+\n",
      "|   1| ABC|\n",
      "|   2| ABC|\n",
      "|   3| ABC|\n",
      "+----+----+\n",
      "\n"
     ]
    }
   ],
   "source": [
    "df.withColumn(\"col2\",trim(col(\"col2\"))).show()"
   ]
  },
  {
   "cell_type": "code",
   "execution_count": 38,
   "id": "1f3f58d6",
   "metadata": {},
   "outputs": [
    {
     "name": "stdout",
     "output_type": "stream",
     "text": [
      "+----+------+\n",
      "|col1|  col2|\n",
      "+----+------+\n",
      "|   1|   ABC|\n",
      "|   2|   ABC|\n",
      "|   3|   ABC|\n",
      "+----+------+\n",
      "\n"
     ]
    }
   ],
   "source": [
    "df.withColumn(\"col2\",rtrim(col(\"col2\"))).show()"
   ]
  },
  {
   "cell_type": "code",
   "execution_count": 40,
   "id": "c66d5739",
   "metadata": {},
   "outputs": [
    {
     "name": "stdout",
     "output_type": "stream",
     "text": [
      "+----+-----+\n",
      "|col1| col2|\n",
      "+----+-----+\n",
      "|   1|ABC  |\n",
      "|   2|ABC  |\n",
      "|   3|  ABC|\n",
      "+----+-----+\n",
      "\n"
     ]
    }
   ],
   "source": [
    "df.withColumn(\"col2\",ltrim(col(\"col2\"))).show()"
   ]
  },
  {
   "cell_type": "code",
   "execution_count": null,
   "id": "845ddcb5",
   "metadata": {},
   "outputs": [],
   "source": []
  }
 ],
 "metadata": {
  "kernelspec": {
   "display_name": "spylon-kernel",
   "language": "scala",
   "name": "spylon-kernel"
  },
  "language_info": {
   "codemirror_mode": "text/x-scala",
   "file_extension": ".scala",
   "help_links": [
    {
     "text": "MetaKernel Magics",
     "url": "https://metakernel.readthedocs.io/en/latest/source/README.html"
    }
   ],
   "mimetype": "text/x-scala",
   "name": "scala",
   "pygments_lexer": "scala",
   "version": "0.4.1"
  }
 },
 "nbformat": 4,
 "nbformat_minor": 5
}
