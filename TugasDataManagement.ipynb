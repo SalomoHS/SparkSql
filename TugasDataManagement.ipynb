{
 "cells": [
  {
   "cell_type": "markdown",
   "id": "687a5631",
   "metadata": {},
   "source": [
    "## Import Modules and Create Spark Session <a class=\"anchor\" id=\"import_module\"></a>"
   ]
  },
  {
   "cell_type": "code",
   "execution_count": 1,
   "id": "c15c7ced",
   "metadata": {},
   "outputs": [
    {
     "data": {
      "text/plain": [
       "Intitializing Scala interpreter ..."
      ]
     },
     "metadata": {},
     "output_type": "display_data"
    },
    {
     "data": {
      "text/plain": [
       "Spark Web UI available at http://Hendry:4040\n",
       "SparkContext available as 'sc' (version = 3.3.0, master = local[*], app id = local-1667134957473)\n",
       "SparkSession available as 'spark'\n"
      ]
     },
     "metadata": {},
     "output_type": "display_data"
    },
    {
     "data": {
      "text/plain": [
       "import org.apache.spark.sql.SparkSession\r\n",
       "import org.apache.spark.sql.types.{IntegerType, StringType, DoubleType, StructType}\r\n"
      ]
     },
     "execution_count": 1,
     "metadata": {},
     "output_type": "execute_result"
    }
   ],
   "source": [
    "import org.apache.spark.sql.SparkSession //For Spark Session \n",
    "import org.apache.spark.sql.types.{IntegerType, StringType, DoubleType, StructType} //For make a schema"
   ]
  },
  {
   "cell_type": "markdown",
   "id": "db86d9a6",
   "metadata": {},
   "source": [
    "## Create Schema <a class=\"anchor\" id=\"create_schema\"></a>"
   ]
  },
  {
   "cell_type": "code",
   "execution_count": 3,
   "id": "fc362172",
   "metadata": {},
   "outputs": [
    {
     "data": {
      "text/plain": [
       "movies_schema: org.apache.spark.sql.types.StructType = StructType(StructField(Actor,StringType,true),StructField(Movie Title,StringType,true),StructField(Release Year,IntegerType,true))\r\n",
       "movie_ratings_schema: org.apache.spark.sql.types.StructType = StructType(StructField(Rating,DoubleType,true),StructField(Movie Title,StringType,true),StructField(Release Year,IntegerType,true))\r\n"
      ]
     },
     "execution_count": 3,
     "metadata": {},
     "output_type": "execute_result"
    }
   ],
   "source": [
    "val movies_schema = (new StructType() //make a new class for movies schema\n",
    "                     .add(\"Actor\",StringType,true) //define column Actor as string\n",
    "                     .add(\"Movie Title\",StringType,true) //define Movie Title Actor as string\n",
    "                     .add(\"Release Year\",IntegerType,true)) //define Release Year Actor as string\n",
    "\n",
    "val movie_ratings_schema = (new StructType() //make a new class for movie_ratings schema\n",
    "                            .add(\"Rating\",DoubleType,true) //define column Rating as double\n",
    "                            .add(\"Movie Title\",StringType,true) //define column Movie Title as string\n",
    "                            .add(\"Release Year\",IntegerType,true)) //define column Release Year as integer"
   ]
  },
  {
   "cell_type": "markdown",
   "id": "03f9f82b",
   "metadata": {},
   "source": [
    "## Read Dataset <a class=\"anchor\" id=\"read_dataset\"></a>"
   ]
  },
  {
   "cell_type": "code",
   "execution_count": 4,
   "id": "e2ac4976",
   "metadata": {},
   "outputs": [
    {
     "data": {
      "text/plain": [
       "movies: org.apache.spark.sql.DataFrame = [Actor: string, Movie Title: string ... 1 more field]\r\n",
       "movies_ratings: org.apache.spark.sql.DataFrame = [Rating: double, Movie Title: string ... 1 more field]\r\n"
      ]
     },
     "execution_count": 4,
     "metadata": {},
     "output_type": "execute_result"
    }
   ],
   "source": [
    "val movies = (spark.read //spark.read implies that we want to read a data\n",
    "              .options(Map(\"header\"->\"true\",\"inferSchema\"->\"true\",\"delimiter\"->\"\\t\")) //read data with header, infer schema, and define the dellimiter as ';'\n",
    "              .schema(movies_schema) //add a schema that we created before\n",
    "              .csv(\"C:\\\\Users\\\\isalo\\\\OneDrive\\\\Documents\\\\Tugas Spark\\\\movies\\\\movies.tsv\")) //define file path\n",
    "\n",
    "val movies_ratings = (spark.read\n",
    "                      .options(Map(\"header\"->\"true\",\"inferSchema\"->\"true\",\"delimiter\"->\"\\t\"))\n",
    "                      .schema(movie_ratings_schema)\n",
    "                      .csv(\"C:\\\\Users\\\\isalo\\\\OneDrive\\\\Documents\\\\Tugas Spark\\\\movies\\\\movie-ratings.tsv\"))"
   ]
  },
  {
   "cell_type": "markdown",
   "id": "fb6cf48e",
   "metadata": {},
   "source": [
    "## Create Temporary Table <a class=\"anchor\" id=\"create_temp_table\"></a>"
   ]
  },
  {
   "cell_type": "code",
   "execution_count": 5,
   "id": "fa876e2b",
   "metadata": {},
   "outputs": [],
   "source": [
    "movies.createOrReplaceTempView(\"movies\") //store movies table into spark session\n",
    "movies_ratings.createOrReplaceTempView(\"movie_ratings\") //store movie_ratings table into spark session"
   ]
  },
  {
   "cell_type": "code",
   "execution_count": 6,
   "id": "20f07d4b",
   "metadata": {},
   "outputs": [
    {
     "name": "stdout",
     "output_type": "stream",
     "text": [
      "+-------------+--------+-----------+---------+-----------+\n",
      "|         name|database|description|tableType|isTemporary|\n",
      "+-------------+--------+-----------+---------+-----------+\n",
      "|movie_ratings|    null|       null|TEMPORARY|       true|\n",
      "|       movies|    null|       null|TEMPORARY|       true|\n",
      "+-------------+--------+-----------+---------+-----------+\n",
      "\n"
     ]
    }
   ],
   "source": [
    "spark.catalog.listTables.show //check the available table in spark session"
   ]
  },
  {
   "cell_type": "markdown",
   "id": "04cd0ea9",
   "metadata": {},
   "source": [
    "## Priview Schema <a class=\"anchor\" id=\"preview_schema\"></a>"
   ]
  },
  {
   "cell_type": "code",
   "execution_count": 7,
   "id": "1e00f650",
   "metadata": {},
   "outputs": [
    {
     "name": "stdout",
     "output_type": "stream",
     "text": [
      "root\n",
      " |-- Actor: string (nullable = true)\n",
      " |-- Movie Title: string (nullable = true)\n",
      " |-- Release Year: integer (nullable = true)\n",
      "\n"
     ]
    }
   ],
   "source": [
    "movies.printSchema //show movies table schema "
   ]
  },
  {
   "cell_type": "code",
   "execution_count": 8,
   "id": "21b8c3e7",
   "metadata": {},
   "outputs": [
    {
     "name": "stdout",
     "output_type": "stream",
     "text": [
      "root\n",
      " |-- Rating: double (nullable = true)\n",
      " |-- Movie Title: string (nullable = true)\n",
      " |-- Release Year: integer (nullable = true)\n",
      "\n"
     ]
    }
   ],
   "source": [
    "movies_ratings.printSchema //show movie_ratings table schema "
   ]
  },
  {
   "cell_type": "markdown",
   "id": "f068de67",
   "metadata": {},
   "source": [
    "## 1.\tCompute the number of movies each actor was in. <a class=\"anchor\" id=\"no_1\"></a>\n",
    "- The output should have two columns: actor, count. \n",
    "- The output should be ordered by the count in descending order"
   ]
  },
  {
   "cell_type": "code",
   "execution_count": 14,
   "id": "30bdd9bd",
   "metadata": {},
   "outputs": [
    {
     "name": "stdout",
     "output_type": "stream",
     "text": [
      "22/10/30 23:16:06 WARN CSVHeaderChecker: CSV header does not conform to the schema.\n",
      " Header: McClure, Marc (I)\n",
      " Schema: Actor\n",
      "Expected: Actor but found: McClure, Marc (I)\n",
      "CSV file: file:///C:/Users/isalo/OneDrive/Documents/Tugas%20Spark/movies/movies.tsv\n",
      "+-------------------+-----+\n",
      "|              Actor|Count|\n",
      "+-------------------+-----+\n",
      "|   Tatasciore, Fred|   38|\n",
      "|      Welker, Frank|   38|\n",
      "| Jackson, Samuel L.|   32|\n",
      "|      Harnell, Jess|   31|\n",
      "|        Damon, Matt|   27|\n",
      "|      Willis, Bruce|   27|\n",
      "|  Cummings, Jim (I)|   26|\n",
      "|         Hanks, Tom|   25|\n",
      "|   Lynn, Sherry (I)|   25|\n",
      "|    Bergen, Bob (I)|   25|\n",
      "|    McGowan, Mickie|   25|\n",
      "|      Proctor, Phil|   24|\n",
      "|        Cruise, Tom|   23|\n",
      "|         Pitt, Brad|   23|\n",
      "|   Wilson, Owen (I)|   23|\n",
      "|       Depp, Johnny|   22|\n",
      "|Freeman, Morgan (I)|   22|\n",
      "|     Morrison, Rana|   22|\n",
      "|Williams, Robin (I)|   22|\n",
      "|      Diaz, Cameron|   21|\n",
      "+-------------------+-----+\n",
      "only showing top 20 rows\n",
      "\n"
     ]
    }
   ],
   "source": [
    "spark.sql(\"\"\"\n",
    "SELECT `Actor`, COUNT(`Actor`) as `Count`\n",
    "FROM movies \n",
    "GROUP BY `Actor`\n",
    "ORDER BY `Count` DESC\n",
    "\"\"\").show()"
   ]
  },
  {
   "cell_type": "markdown",
   "id": "27f0919b",
   "metadata": {},
   "source": [
    "### Code Breakdown\n",
    "1. **SELECT `Actor`, COUNT(`Actor`) as `Count`** : Menseleksi kolom Actor dan menampilkan count untuk kolom actor\n",
    "2. **FROM movies** : Mengambil data dari tabel movies\n",
    "3. **GROUP BY `Actor`** : mengelompokkan berdasarkan nama Actor\n",
    "4. **ORDER BY `Count` DESC** : Mengurutkan count secara descending (Besar -> Kecil)"
   ]
  },
  {
   "cell_type": "markdown",
   "id": "fc9b32af",
   "metadata": {},
   "source": [
    "## 2.\tCompute the highest-rated movie per year and include all the actors played in that movie. <a class=\"anchor\" id=\"no_2\"></a>\n",
    "- The output should have only one movie per year, and it should contain four columns: year, movie title, rating, a semicolon-separated list of actor names. \n",
    "- This question requires a join between movies.tsv and movie-ratings.tsv files. \n",
    "- There are two approaches to this problem. \n",
    "  1. The first is to figure out the highest-rated movies per year and then join with a list of actors. \n",
    "  2. The second one is to perform the join first and then figure out the highest-rated movies per year and a list of actors. \n",
    "\n",
    "  The result of each approach is different from the other one. Why do you think that is?"
   ]
  },
  {
   "cell_type": "markdown",
   "id": "15c598fc",
   "metadata": {},
   "source": [
    "### 2.1. The first is to figure out the highest-rated movies per year and then join with a list of actors. "
   ]
  },
  {
   "cell_type": "code",
   "execution_count": 10,
   "id": "0316671a",
   "metadata": {},
   "outputs": [
    {
     "name": "stdout",
     "output_type": "stream",
     "text": [
      "22/10/30 20:03:21 WARN CSVHeaderChecker: CSV header does not conform to the schema.\n",
      " Header: 1.6339, 'Crocodile' Dundee II, 1988\n",
      " Schema: Rating, Movie Title, Release Year\n",
      "Expected: Rating but found: 1.6339\n",
      "CSV file: file:///C:/Users/isalo/OneDrive/Documents/Tugas%20Spark/movies/movie-ratings.tsv\n",
      "22/10/30 20:03:22 WARN CSVHeaderChecker: CSV header does not conform to the schema.\n",
      " Header: McClure, Marc (I), Freaky Friday\n",
      " Schema: Actor, Movie Title\n",
      "Expected: Actor but found: McClure, Marc (I)\n",
      "CSV file: file:///C:/Users/isalo/OneDrive/Documents/Tugas%20Spark/movies/movies.tsv\n",
      "+------------+-------+--------------------+--------------------+\n",
      "|Release Year| Rating|         Movie Title|          Actor List|\n",
      "+------------+-------+--------------------+--------------------+\n",
      "|        1940| 7.8557|           Pinocchio|Dori, Sandro;Idle...|\n",
      "|        1953| 5.4756|           Peter Pan|Palmer, Geoffrey ...|\n",
      "|        1961| 0.6726|One Hundred and O...|Wickes, Mary;Wrig...|\n",
      "|        1979|13.5028|             Dracula|Grant, Richard E....|\n",
      "|        1986|14.2122|    An American Tail|Plummer, Christop...|\n",
      "|        2003|14.1829|               Gigli|Affleck, Ben;Lope...|\n",
      "|        2005|14.1976|             The Man|Jackson, Samuel L...|\n",
      "|        2010|14.2173|           Beginners|McGregor, Ewan;Pl...|\n",
      "+------------+-------+--------------------+--------------------+\n",
      "\n"
     ]
    }
   ],
   "source": [
    "spark.sql(\"\"\"\n",
    "WITH high_rating_movies_per_year AS ( \n",
    "SELECT `Release Year`, `Rating`, `Movie Title` \n",
    "FROM (SELECT *, ROW_NUMBER() OVER(PARTITION BY `Release Year` ORDER BY `Rating` DESC) AS `row_n` FROM movie_ratings) \n",
    "WHERE row_n = 1\n",
    "), movie_actors AS(\n",
    "SELECT `Movie Title`, CONCAT_WS(';', COLLECT_SET(`Actor`)) AS `Actor List` \n",
    "FROM movies\n",
    "GROUP BY `Movie Title`\n",
    ")\n",
    "\n",
    "SELECT Movie.`Release Year`, Movie.`Rating`, Movie.`Movie Title`, Actor.`Actor List` \n",
    "FROM high_rating_movies_per_year AS `Movie`\n",
    "INNER JOIN movie_actors AS `Actor` ON Movie.`Movie Title` = Actor.`Movie Title`\n",
    "ORDER BY Movie.`Release Year`\n",
    "\"\"\").show()"
   ]
  },
  {
   "cell_type": "markdown",
   "id": "a4028f28",
   "metadata": {},
   "source": [
    "#### Code Breakdown\n",
    "1. **WITH high_rating_movies_per_year AS**: membuat tabel high_rating_movies_per_year\n",
    "    1. **SELECT `Release Year`, `Rating`, `Movie Title`**: Menseleksi kolom `Release Year`, `Rating`, `Movie Title`\n",
    "    2. **FROM (SELECT \\*, ROW_NUMBER() OVER(PARTITION BY `Release Year` ORDER BY `Rating` DESC) AS `row_n` FROM movie_ratings)**: \n",
    "       Menggunakan tabel yang berisi semua kolom yang diseleksi dan tambahan *row number* yang berdasarkan pada `Release Year` dan urutan terbesar dari `Rating`. data tabel diambil dari tabel movie_ratings\n",
    "    3. **WHERE row_n = 1**: Mengambil setiap row number yang bernilai 1 \n",
    "2. **movie_actors AS**: membuat tabel movie_actors\n",
    "    1. **SELECT `Movie Title`, CONCAT_WS(';', COLLECT_SET(`Actor`)) AS `Actor List`**: Menseleksi `Movie Title` dan mengambil setiap actor untuk dijadikan list yang dipisahkan dengan tanda';' \n",
    "    2. **FROM movies**: Data diambil dari table movies\n",
    "    3. **GROUP BY `Movie Title`**: Setiap list actor dikelompokkan berdasarkan `Movie Title`\n",
    "3. **SELECT Movie.`Release Year`, Movie.`Rating`, Movie.`Movie Title`, Actor.`Actor List`**: Menseleksi kolom `Release Year`, `Rating`, `Movie Title` dari tabel Movie dan `Actor List` dari tabel Actor\n",
    "4. **FROM high_rating_movies_per_year AS `Movie`**: Mendefinisikan tabel Movie adalah alias dari tabel high_rating_movies_per_year\n",
    "5. **INNER JOIN movie_actors AS `Actor` ON Movie.`Movie Title` = Actor.`Movie Title`**: Mendefinisikan tabel Actor adalah alias dari tabel movie_actors, lalu digabungkan dengan tabel Actor berdasarkan irisan Movie Title\n",
    "6. **ORDER BY Movie.`Release Year`**: Data diurutkan berdasarkan Release Year dari tabel Movie"
   ]
  },
  {
   "cell_type": "markdown",
   "id": "ea0dcce6",
   "metadata": {},
   "source": [
    "### 2.2. The second one is to perform the join first and then figure out the highest-rated movies per year and a list of actors. <a class=\"anchor\" id=\"no_2_2\"></a>"
   ]
  },
  {
   "cell_type": "code",
   "execution_count": 11,
   "id": "b64fcd42",
   "metadata": {},
   "outputs": [
    {
     "name": "stdout",
     "output_type": "stream",
     "text": [
      "22/10/30 20:03:26 WARN CSVHeaderChecker: CSV header does not conform to the schema.\n",
      " Header: 1.6339, 'Crocodile' Dundee II, 1988\n",
      " Schema: Rating, Movie Title, Release Year\n",
      "Expected: Rating but found: 1.6339\n",
      "CSV file: file:///C:/Users/isalo/OneDrive/Documents/Tugas%20Spark/movies/movie-ratings.tsv\n",
      "22/10/30 20:03:26 WARN CSVHeaderChecker: CSV header does not conform to the schema.\n",
      " Header: McClure, Marc (I), Freaky Friday\n",
      " Schema: Actor, Movie Title\n",
      "Expected: Actor but found: McClure, Marc (I)\n",
      "CSV file: file:///C:/Users/isalo/OneDrive/Documents/Tugas%20Spark/movies/movies.tsv\n",
      "+------------+------+--------------------+--------------------+\n",
      "|Release Year|Rating|         Movie Title|          Actor List|\n",
      "+------------+------+--------------------+--------------------+\n",
      "|        1940|7.8557|           Pinocchio|Dori, Sandro;Idle...|\n",
      "|        1953|5.4756|           Peter Pan|Palmer, Geoffrey ...|\n",
      "|        1961|0.6726|One Hundred and O...|Wickes, Mary;Wrig...|\n",
      "|        1967|1.3485|     The Jungle Book|Howard, Clint;Wri...|\n",
      "|        1972|0.5099|       The Godfather|Sivero, Frank (I)...|\n",
      "|        1973|0.6581|        The Exorcist|Mitchell, Donna (...|\n",
      "|        1975| 0.701|                Jaws|Grossman, Ted (I)...|\n",
      "|        1976|4.7917|           King Kong|Parke, Evan;Broph...|\n",
      "|        1977|0.0807|           Star Wars|Fielder, Harry;He...|\n",
      "|        1978| 0.413|              Grease|Sperber, Wendie J...|\n",
      "|        1979|0.6595|   Kramer vs. Kramer|Hoffman, Dustin;W...|\n",
      "|        1980|0.2564|Star Wars: Episod...|Bulloch, Jeremy;H...|\n",
      "|        1981| 0.531|              Arthur|Hamilton, Richard...|\n",
      "|        1982| 0.071|E.T.: The Extra-T...|Kogan, Milt;Gross...|\n",
      "|        1983|0.0666|Star Wars: Episod...|Burtt, Ben;Davis,...|\n",
      "|        1984|0.1321|       Ghost Busters|Carhart, Timothy;...|\n",
      "|        1985|0.1904|  Back to the Future|Zane, Billy;Duran...|\n",
      "|        1986| 0.145|             Top Gun|Wells-Gunkel, Wen...|\n",
      "|        1987|0.1873|       Dirty Dancing|Knight, Wayne (I)...|\n",
      "|        1988| 0.413|            Die Hard|Caccialanza, Lore...|\n",
      "+------------+------+--------------------+--------------------+\n",
      "only showing top 20 rows\n",
      "\n"
     ]
    }
   ],
   "source": [
    "spark.sql(\"\"\"\n",
    "WITH movie_rate AS (\n",
    "SELECT table1.`Release Year`, table1.`Rating`, table1.`Movie Title`, table2.`Actor` \n",
    "FROM movie_ratings AS `table1`\n",
    "INNER JOIN movies AS `table2` ON table1.`Movie Title` = table2.`Movie Title`\n",
    "), moviesRating AS (\n",
    "SELECT `Release Year`, MAX(`Rating`) AS `Rating`, `Movie Title`, CONCAT_WS(';', COLLECT_SET(`Actor`)) AS `Actor List` \n",
    "FROM movie_rate\n",
    "GROUP BY `Movie Title`, `Release Year`\n",
    "ORDER BY `Release Year`\n",
    ")\n",
    "\n",
    "SELECT `Release Year`, `Rating`, `Movie Title`, `Actor List`\n",
    "FROM (SELECT *, ROW_NUMBER() OVER(PARTITION BY `Release Year` ORDER BY `Rating`) AS `row_n` FROM moviesRating)\n",
    "WHERE row_n = 1\n",
    "\"\"\").show()"
   ]
  },
  {
   "cell_type": "markdown",
   "id": "1c92b3d0",
   "metadata": {},
   "source": [
    "#### Code Breakdown \n",
    "1. **WITH movie_rate AS**: membuat tabel movie_rate\n",
    "    1. **SELECT table1.`Release Year`, table1.`Rating`, table1.`Movie Title`, table2.`Actor`**: Menseleksi `Release Year`, `Rating` dari table1 dan menseleksi `Movie Title` dan `Actor` dari table2\n",
    "    2. **FROM movie_ratings AS `table1`**: Mendefiniskan table1 merupakan alias dari table movie_ratings\n",
    "    3. **INNER JOIN movies AS `table2` ON table1.`Movie Title` = table2.`Movie Title`**: Mendefiniskan table2 merupakan alias dari table movies, lalu menggabungkan table1 dan table2 dengan menggunakan irisan dari `Movie Title`\n",
    "2. **moviesRating AS**: membuat tabel moviesRating \n",
    "    1. **SELECT `Release Year`, MAX(`Rating`) AS `Rating`, `Movie Title`, CONCAT_WS(';', COLLECT_SET(`Actor`)) AS `Actor List`**: Menseleksi `Release Year`, `Rating` yang bernilai maximum, `Movie Title`, dan list actor yang dipisahkan dengan ';'\n",
    "    2. **FROM movie_rate**: Mengambil data dari table movie_rate\n",
    "    3. **GROUP BY `Movie Title`, `Release Year`**: Data dikelompokkan berdasarkan `Movie Title`\n",
    "    4. **ORDER BY `Release Year`**: Mengurutkan data berdasarkan `Release Year`\n",
    "3. **SELECT `Release Year`, `Rating`, `Movie Title`, `Actor List`**: Menseleksi `Release Year`, `Rating`, `Movie Title`, dan `Actor List`\n",
    "4. **FROM (SELECT *, ROW_NUMBER() OVER(PARTITION BY `Release Year` ORDER BY `Rating`) AS `row_n` FROM moviesRating)**: mengambil data dari tabel dengan isi kolom yang sudah diseleksi dan _row number_ yang berdasarkan pada `Release Year` dan urutan terbesar dari `Rating`. data tabel diambil dari tabel moviesRating\n",
    "5. **WHERE row_n = 1**: Menampilkan data yang memiliki _row number_ = 1"
   ]
  },
  {
   "cell_type": "markdown",
   "id": "45cd9eba",
   "metadata": {},
   "source": [
    "### Conclusion\n",
    "The result of each approach is different from the other one. Why do you think that is?\n",
    "\n",
    "Data yang ditampilkan dari query pendekatan 1, lebih sedikit dari pendekatan 2. Hal ini dikarenakan pendekatan 1 kita melakukan filtering terlebih dahulu untuk movie rating, lalu kita menggabungkannya berdasarkan irisan dengan actor list, sehingga hasil irisannya lebih sedikit dibandingkan dengan pendekatan 2 yang hasil irisan datanya masih belum ada filter sama sekali."
   ]
  },
  {
   "cell_type": "markdown",
   "id": "f4fcc847",
   "metadata": {},
   "source": [
    "## 3. Determine which pair of actors worked together most. Working together is defined as appearing in the same movie. <a class=\"anchor\" id=\"no_3\"></a>\n",
    "- The output should have three columns: actor1, actor2, and count. \n",
    "- The output should be sorted by the count in descending order. \n",
    "\n",
    "The solution to this question requires doing self-join"
   ]
  },
  {
   "cell_type": "code",
   "execution_count": 12,
   "id": "732ce65e",
   "metadata": {},
   "outputs": [
    {
     "name": "stdout",
     "output_type": "stream",
     "text": [
      "22/10/30 20:03:31 WARN CSVHeaderChecker: CSV header does not conform to the schema.\n",
      " Header: McClure, Marc (I), Freaky Friday\n",
      " Schema: Actor, Movie Title\n",
      "Expected: Actor but found: McClure, Marc (I)\n",
      "CSV file: file:///C:/Users/isalo/OneDrive/Documents/Tugas%20Spark/movies/movies.tsv\n",
      "22/10/30 20:03:31 WARN CSVHeaderChecker: CSV header does not conform to the schema.\n",
      " Header: McClure, Marc (I), Freaky Friday\n",
      " Schema: Actor, Movie Title\n",
      "Expected: Actor but found: McClure, Marc (I)\n",
      "CSV file: file:///C:/Users/isalo/OneDrive/Documents/Tugas%20Spark/movies/movies.tsv\n",
      "+------------------+-----------------+-----+\n",
      "|           Actor 1|          Actor 2|Count|\n",
      "+------------------+-----------------+-----+\n",
      "|   McGowan, Mickie| Lynn, Sherry (I)|   23|\n",
      "|  Lynn, Sherry (I)|  McGowan, Mickie|   23|\n",
      "|   McGowan, Mickie|  Bergen, Bob (I)|   19|\n",
      "|   Bergen, Bob (I)|  McGowan, Mickie|   19|\n",
      "|  Lynn, Sherry (I)|  Bergen, Bob (I)|   19|\n",
      "|   Bergen, Bob (I)| Lynn, Sherry (I)|   19|\n",
      "|   Angel, Jack (I)| Lynn, Sherry (I)|   17|\n",
      "|   McGowan, Mickie|  Angel, Jack (I)|   17|\n",
      "|  Lynn, Sherry (I)|  Angel, Jack (I)|   17|\n",
      "|   Angel, Jack (I)|  McGowan, Mickie|   17|\n",
      "|  Lynn, Sherry (I)|      Rabson, Jan|   16|\n",
      "|   McGowan, Mickie|      Rabson, Jan|   16|\n",
      "|       Rabson, Jan|  McGowan, Mickie|   16|\n",
      "|       Rabson, Jan| Lynn, Sherry (I)|   16|\n",
      "| Darling, Jennifer|  McGowan, Mickie|   15|\n",
      "|   McGowan, Mickie|Darling, Jennifer|   15|\n",
      "|   McGowan, Mickie|    Harnell, Jess|   14|\n",
      "|Schneider, Rob (I)|Sandler, Adam (I)|   14|\n",
      "|   McGowan, Mickie| Farmer, Bill (I)|   14|\n",
      "|  Farmer, Bill (I)|  McGowan, Mickie|   14|\n",
      "+------------------+-----------------+-----+\n",
      "only showing top 20 rows\n",
      "\n"
     ]
    }
   ],
   "source": [
    "spark.sql(\"\"\"\n",
    "WITH actor_pair AS (\n",
    "SELECT actor1.`Actor` AS `Actor 1`, actor2.`Actor` AS `Actor 2`\n",
    "FROM movies AS actor1 CROSS JOIN movies AS actor2\n",
    "WHERE actor1.`Actor` <> actor2.`Actor` AND actor1.`Movie Title` = actor2.`Movie Title`\n",
    ")\n",
    "\n",
    "SELECT `Actor 1`,`Actor 2`, COUNT(*) AS `Count` \n",
    "FROM actor_pair\n",
    "GROUP BY `Actor 1`,`Actor 2`\n",
    "ORDER BY `Count` DESC\n",
    "\"\"\").show()"
   ]
  },
  {
   "cell_type": "markdown",
   "id": "c74cfdba",
   "metadata": {},
   "source": [
    "#### Code Breakdown\n",
    " 1. **WITH actor_pair AS**: Membuat table actor_pair\n",
    " 2. **SELECT actor1.`Actor` AS `Actor 1`, actor2.`Actor` AS `Actor 2`** : Menseleksi Actor dari actor1 dan Actor dari actor 2\n",
    " 3. **FROM movies AS actor1 CROSS JOIN movies AS actor2** : Mengambil dan menggabungkan data actor1 dan actor 2 dari tabel movies \n",
    " 4. **WHERE actor1.`Actor` <> actor2.`Actor` AND actor1.`Movie Title` = actor2.`Movie Title`** : Membuat kondisi dimana Actor tidak disandingkan dengan dirinya sendiri dan Actor muncul pada Movie Title yang sama \n",
    " 5. **SELECT `Actor 1`, `Actor 2`, COUNT(*) AS `Count`** : Menampilkan `Actor 1`,`Actor 2`, dan `Count` dari gabungan `Actor 1` dan `Actor 2`\n",
    " 6. **FROM actor_pair** : Mengambil data dari tabel actor_pairs\n",
    " 7. **GROUP BY `Actor 1`,`Actor 2`** : Mengelompokkan berdasarkan `Actor 1` dan `Actor 2` \n",
    " 8. **ORDER BY `Count` DESC** : Menampilkan data berdasarkan nilai Count dari yang terbesar  "
   ]
  }
 ],
 "metadata": {
  "kernelspec": {
   "display_name": "spylon-kernel",
   "language": "scala",
   "name": "spylon-kernel"
  },
  "language_info": {
   "codemirror_mode": "text/x-scala",
   "file_extension": ".scala",
   "help_links": [
    {
     "text": "MetaKernel Magics",
     "url": "https://metakernel.readthedocs.io/en/latest/source/README.html"
    }
   ],
   "mimetype": "text/x-scala",
   "name": "scala",
   "pygments_lexer": "scala",
   "version": "0.4.1"
  }
 },
 "nbformat": 4,
 "nbformat_minor": 5
}
